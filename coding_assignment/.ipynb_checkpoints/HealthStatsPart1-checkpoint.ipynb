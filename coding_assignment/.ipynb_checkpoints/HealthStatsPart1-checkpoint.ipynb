{
 "cells": [
  {
   "cell_type": "markdown",
   "metadata": {},
   "source": [
    "# Health Stats Part 1: Waist 2 Hip Ratios"
   ]
  },
  {
   "cell_type": "markdown",
   "metadata": {},
   "source": [
    "  Waist to hip ratio gives a prediction of the level of risk of developing heart disease or other serious health conditions. Is is calculated by taking your waist circumference in inches divded by hip circumference in inches. Ratios above 1 indicate that risk of developing heart disease is much higher than ratio below 1. Ratio is also used to indicate obesity.  Women with ratios above 0.85 and men with ratios above .90 are obese.\n",
    "\n",
    "Source: https://www.verywellfit.com/waist-to-hip-ratio-and-examples-3496140\n",
    "\n",
    "\n",
    "# Waist to hip ratio risk of developing health conditions \n",
    "\n",
    "| Gender | Excellent | Good | Average | At Risk |\n",
    "|--------|-----------|------|---------|---------|\n",
    "| Males | < 0.85 | 0.85-0.89 | 0.90-0.95 | >0.95 |\n",
    "| Females | < 0.75 | 0.75-0.79 | 0.80-0.86 | > 0.86 |\n",
    "\n",
    "link for table: https://www.pinnacle-pt.com/blog/whats-new/post/365-part-i-waist-to-hip-ratio\n",
    "\n",
    "   Medical news today indicates that there are several health risk involved with people who are more \"apple\" shaped than \"pear\" shaped. Health conditions that are common with large waist to hip ratios include cardiovascular disease,cancer, Type 2 diabetes,  and infertility in women. Also waist to hip ratio measures risk of mortality as well.    \n",
    "   According to medical news today, the best way to prevent high waist to hip ratio is to maintain a healthy weight. This can be done with healthy eating, minimizing potion sizes of food, and exercising several times a week. Diets high in fruit and dairy are critical while avoiding soft drinks, processed meats, margarine, and white bread. \n",
    "\n"
   ]
  },
  {
   "cell_type": "markdown",
   "metadata": {},
   "source": [
    "## Source Data "
   ]
  },
  {
   "cell_type": "markdown",
   "metadata": {},
   "source": [
    "<!--- Replace the text below with a Markdown bullet list that defines the columns of the CSV file. Be sure to indicate the data type for each column. --->\n",
    "\n",
    "<!--- Example can be: ID, unique identifier of each person, integer. Remember you need to put this into a bullet list! How? [This link](https://jupyter-notebook.readthedocs.io/en/stable/examples/Notebook/Working%20With%20Markdown%20Cells.html) might help. --->\n",
    "\n",
    "<!--- These two markdown cells are required in almost any analytical report. --->\n",
    "\n",
    "# Waist to hip measurements for male and females \n",
    "*field one is the primary key or unique identifer of the data set. It is the number assigned to each individual in the sample of male and females.  There are 20 individuals in the sample. It is an integer data type. \n",
    "\n",
    "*field two is the waist measurement of the individual in inches. Is is an integer data type.\n",
    "\n",
    "*field three is the hip measurement of the individual in inches. Is is an integer data type. \n",
    "\n",
    "*field four is the gender of the individual.  M is for male and F is for female.  This column of data is a string data type. "
   ]
  },
  {
   "cell_type": "markdown",
   "metadata": {},
   "source": [
    "## Data Import\n",
    "\n",
    "For whatever type of analysis, we need to read in the data. \n",
    "\n",
    "This is the basic way how Python read-in data. \n",
    "\n",
    "For more information regarding this part, read Chapter 7 in your PY4E textbook."
   ]
  },
  {
   "cell_type": "code",
   "execution_count": 23,
   "metadata": {
    "collapsed": true
   },
   "outputs": [],
   "source": [
    "# Goal: Extract the data from the file\n",
    "\n",
    "# opens the w2h_data.csv for reading\n",
    "f = open(\"w2h_data.csv\", \"r\")\n",
    "\n",
    "# loads the file into a list of strings, one string per line\n",
    "raw_lines = list(f)\n",
    "\n",
    "# closes the file\n",
    "f.close()"
   ]
  },
  {
   "cell_type": "markdown",
   "metadata": {},
   "source": [
    "Data are not useful when they are in the wrong data type, or have wrong values, missing values... \n",
    "\n",
    "Clean up your data is an important step in any analysis."
   ]
  },
  {
   "cell_type": "code",
   "execution_count": 60,
   "metadata": {
    "collapsed": true
   },
   "outputs": [
    {
     "name": "stdout",
     "output_type": "stream",
     "text": [
      "[['ID', 'Waist', 'Hip', 'Gender'], [1, 30, 32, 'M'], [2, 32, 37, 'M'], [3, 30, 36, 'M'], [4, 33, 39, 'M'], [5, 29, 33, 'M'], [6, 32, 38, 'M'], [7, 33, 42, 'M'], [8, 30, 40, 'M'], [9, 30, 37, 'M'], [10, 32, 39, 'M'], [11, 24, 35, 'F'], [12, 25, 37, 'F'], [13, 24, 37, 'F'], [14, 22, 34, 'F'], [15, 26, 38, 'F'], [16, 26, 37, 'F'], [17, 25, 38, 'F'], [18, 26, 37, 'F'], [19, 28, 40, 'F'], [20, 23, 35, 'F']]\n"
     ]
    }
   ],
   "source": [
    "# Goal: Scrub and convert the data, loading it into a new list called rows\n",
    "\n",
    "# Strips out newline '\\n' characters and converts to a list\n",
    "raw_rows = [r.rstrip('\\n').split(',') for r in raw_lines] # <--- Whoa. Why does this work? \n",
    "#works because each element in raw rows is strips the'/n'. It splits ',' to a list. \n",
    "\n",
    "# Creates a new list `rows`, starting with just the column names\n",
    "rows = list() \n",
    "rows.append(raw_rows[0]);\n",
    "\n",
    "# Convert each `raw_row`, starting with the second\n",
    "for raw_row in raw_rows[1:]:\n",
    "    \n",
    "    # Note: the values in the `raw_row` list are all strings.\n",
    "    # Create a new list called `row` that converts each item in `raw_row` to the right data type  \n",
    "    row = [int(raw_row[0]),int(raw_row[1]),int(raw_row[2]),raw_row[3]] # FIX THIS; \n",
    "    # you'll need to use conversion functions above\n",
    "    # Append the new `row` to the `rows` list\n",
    "    rows.append(row)\n",
    "    \n",
    "# from here on out use the `rows` list instead of `raw_rows` or `raw_lines`\n",
    "# You may want to print out `rows` to test whether your code above worked\n",
    "print(rows)"
   ]
  },
  {
   "cell_type": "markdown",
   "metadata": {},
   "source": [
    "## Calculations\n",
    "\n",
    "Sometimes, the data given to you do not contain the values you need directly, you will need to calculate them somehow. \n",
    "\n",
    "In this part, you calculate two new features namely `W2H Ratio` and `Shape`."
   ]
  },
  {
   "cell_type": "code",
   "execution_count": 61,
   "metadata": {},
   "outputs": [
    {
     "name": "stdout",
     "output_type": "stream",
     "text": [
      "[1, 30, 32, 'M', 0.94, 'Apple']\n",
      "[2, 32, 37, 'M', 0.86, 'Pear']\n",
      "[3, 30, 36, 'M', 0.83, 'Pear']\n",
      "[4, 33, 39, 'M', 0.85, 'Pear']\n",
      "[5, 29, 33, 'M', 0.88, 'Pear']\n",
      "[6, 32, 38, 'M', 0.84, 'Pear']\n",
      "[7, 33, 42, 'M', 0.79, 'Pear']\n",
      "[8, 30, 40, 'M', 0.75, 'Pear']\n",
      "[9, 30, 37, 'M', 0.81, 'Pear']\n",
      "[10, 32, 39, 'M', 0.82, 'Pear']\n",
      "[11, 24, 35, 'F', 0.69, 'Pear']\n",
      "[12, 25, 37, 'F', 0.68, 'Pear']\n",
      "[13, 24, 37, 'F', 0.65, 'Pear']\n",
      "[14, 22, 34, 'F', 0.65, 'Pear']\n",
      "[15, 26, 38, 'F', 0.68, 'Pear']\n",
      "[16, 26, 37, 'F', 0.7, 'Pear']\n",
      "[17, 25, 38, 'F', 0.66, 'Pear']\n",
      "[18, 26, 37, 'F', 0.7, 'Pear']\n",
      "[19, 28, 40, 'F', 0.7, 'Pear']\n",
      "[20, 23, 35, 'F', 0.66, 'Pear']\n"
     ]
    }
   ],
   "source": [
    "# Goal: For each row of data calculate and store the w2h_ratio and shape.\n",
    "# Adds columns for the two new features\n",
    "rows[0].extend([\"W2H Ratio\",\"Shape\"])\n",
    "\n",
    "# For each row in the rows list, calculate the waist to hips ratio and shape\n",
    "for row in rows[1:]:\n",
    "    # Calculate the w2h_ratio \n",
    "    waist = row[1]\n",
    "    hip = row[2]\n",
    "    w2h_ratio = round((row[1] / row[2]),2)\n",
    "    \n",
    "    #Gender is the 4th field of the dataset \n",
    "    #Identifies gender to determine shape\n",
    "    Gender = row[3]\n",
    "    \n",
    "    # Based on the ratio and the gender, set the variable shape to either 'Apple' or 'Pear'\n",
    "    #Pear includes females below 0.80 w2h_ratio and males below .90 w2h_ratio\n",
    "    #Apple includes females above 0.80 w2h_ratio and males above .90 w2h_ratio \n",
    "    if Gender == 'F' and w2h_ratio <= 0.80:\n",
    "        Shape = 'Pear'\n",
    "    elif Gender == 'F':\n",
    "        Shape = 'Apple'\n",
    "    elif Gender == 'M' and w2h_ratio <= 0.90:\n",
    "        Shape = 'Pear'\n",
    "    else:\n",
    "        Shape = 'Apple'  \n",
    "        \n",
    "       # Add the new data to the end of the row\n",
    "    row += [w2h_ratio, Shape] # note: += is shorthand for the extend method used above\n",
    "    \n",
    "    print(row)"
   ]
  },
  {
   "cell_type": "code",
   "execution_count": null,
   "metadata": {},
   "outputs": [],
   "source": []
  },
  {
   "cell_type": "markdown",
   "metadata": {},
   "source": [
    "## Output\n",
    "\n",
    "In your analysis report, it is always helpful to display your data somehow.\n",
    "\n",
    "This is a very rudimentary way to displaying your data, including the original features and the new features you just calculated."
   ]
  },
  {
   "cell_type": "code",
   "execution_count": 62,
   "metadata": {
    "collapsed": false
   },
   "outputs": [
    {
     "data": {
      "text/html": [
       "<table><tr><th>ID</th><th>Waist</th><th>Hip</th><th>Gender</th><th>W2H Ratio</th><th>Shape</th></tr><tr><td>1</td><td>30</td><td>32</td><td>M</td><td>0.94</td><td>Apple</td></tr><tr><td>2</td><td>32</td><td>37</td><td>M</td><td>0.86</td><td>Pear</td></tr><tr><td>3</td><td>30</td><td>36</td><td>M</td><td>0.83</td><td>Pear</td></tr><tr><td>4</td><td>33</td><td>39</td><td>M</td><td>0.85</td><td>Pear</td></tr><tr><td>5</td><td>29</td><td>33</td><td>M</td><td>0.88</td><td>Pear</td></tr><tr><td>6</td><td>32</td><td>38</td><td>M</td><td>0.84</td><td>Pear</td></tr><tr><td>7</td><td>33</td><td>42</td><td>M</td><td>0.79</td><td>Pear</td></tr><tr><td>8</td><td>30</td><td>40</td><td>M</td><td>0.75</td><td>Pear</td></tr><tr><td>9</td><td>30</td><td>37</td><td>M</td><td>0.81</td><td>Pear</td></tr><tr><td>10</td><td>32</td><td>39</td><td>M</td><td>0.82</td><td>Pear</td></tr><tr><td>11</td><td>24</td><td>35</td><td>F</td><td>0.69</td><td>Pear</td></tr><tr><td>12</td><td>25</td><td>37</td><td>F</td><td>0.68</td><td>Pear</td></tr><tr><td>13</td><td>24</td><td>37</td><td>F</td><td>0.65</td><td>Pear</td></tr><tr><td>14</td><td>22</td><td>34</td><td>F</td><td>0.65</td><td>Pear</td></tr><tr><td>15</td><td>26</td><td>38</td><td>F</td><td>0.68</td><td>Pear</td></tr><tr><td>16</td><td>26</td><td>37</td><td>F</td><td>0.7</td><td>Pear</td></tr><tr><td>17</td><td>25</td><td>38</td><td>F</td><td>0.66</td><td>Pear</td></tr><tr><td>18</td><td>26</td><td>37</td><td>F</td><td>0.7</td><td>Pear</td></tr><tr><td>19</td><td>28</td><td>40</td><td>F</td><td>0.7</td><td>Pear</td></tr><tr><td>20</td><td>23</td><td>35</td><td>F</td><td>0.66</td><td>Pear</td></tr></table>"
      ],
      "text/plain": [
       "<IPython.core.display.HTML object>"
      ]
     },
     "metadata": {},
     "output_type": "display_data"
    }
   ],
   "source": [
    "# Goal: pretty print the rows as an HTML table\n",
    "\n",
    "# Note: this works, but we can do this much better with pandas\n",
    "html_table = '<table><tr><th>'\n",
    "html_table += \"</th><th>\".join(rows[0])\n",
    "html_table += '</th></tr>'\n",
    "for row in rows[1:]:\n",
    "    html_table += \"<tr><td>\"\n",
    "    html_table += \"</td><td>\".join(str(col) for col in row)\n",
    "    html_table += \"</td></tr>\"\n",
    "html_table += \"</table>\"\n",
    "\n",
    "from IPython.display import HTML, display\n",
    "display(HTML(html_table))"
   ]
  },
  {
   "cell_type": "code",
   "execution_count": null,
   "metadata": {
    "collapsed": true
   },
   "outputs": [],
   "source": []
  }
 ],
 "metadata": {
  "kernelspec": {
   "display_name": "Python 3",
   "language": "python",
   "name": "python3"
  },
  "language_info": {
   "codemirror_mode": {
    "name": "ipython",
    "version": 3
   },
   "file_extension": ".py",
   "mimetype": "text/x-python",
   "name": "python",
   "nbconvert_exporter": "python",
   "pygments_lexer": "ipython3",
   "version": "3.6.7"
  }
 },
 "nbformat": 4,
 "nbformat_minor": 2
}
